{
 "cells": [
  {
   "cell_type": "markdown",
   "metadata": {},
   "source": [
    "## Spotify Musical Feature Analysis by Decade"
   ]
  },
  {
   "cell_type": "code",
   "execution_count": 1,
   "metadata": {},
   "outputs": [
    {
     "name": "stderr",
     "output_type": "stream",
     "text": [
      "Matplotlib created a temporary config/cache directory at /tmp/matplotlib-zgg6uuqr because the default path (/home/jovyan/.cache/matplotlib) is not a writable directory; it is highly recommended to set the MPLCONFIGDIR environment variable to a writable directory, in particular to speed up the import of Matplotlib and to better support multiprocessing.\n"
     ]
    }
   ],
   "source": [
    "## This notebook going off of what was done in the Google Colab file\n",
    "\n",
    "import pandas as pd\n",
    "import numpy as np\n",
    "import matplotlib.pyplot as plt\n",
    "from pyspark.sql import SparkSession\n",
    "from pyspark.ml import Pipeline\n",
    "from pyspark.ml.classification import RandomForestClassifier\n",
    "from pyspark.ml.feature import StringIndexer, VectorIndexer, VectorAssembler, IndexToString\n",
    "from pyspark.ml.evaluation import MulticlassClassificationEvaluator\n",
    "from pyspark.ml.tuning import CrossValidator, ParamGridBuilder\n",
    "from pyspark.sql.types import *"
   ]
  },
  {
   "cell_type": "markdown",
   "metadata": {},
   "source": [
    "### Data importing & formatting"
   ]
  },
  {
   "cell_type": "code",
   "execution_count": 2,
   "metadata": {},
   "outputs": [],
   "source": [
    "data = pd.read_csv(\"https://raw.githubusercontent.com/aclink88/musicFeatureAnalysis/main/data/data.csv\")\n",
    "data['decade'] = (data.year//10)*10\n",
    "#data.drop(columns = ['artists', 'name', 'release_date']).to_csv('withDecade.csv', index=False,  header=True)"
   ]
  },
  {
   "cell_type": "markdown",
   "metadata": {},
   "source": [
    "### EDA"
   ]
  },
  {
   "cell_type": "code",
   "execution_count": 3,
   "metadata": {},
   "outputs": [
    {
     "data": {
      "text/plain": [
       "array([1920, 1930, 1940, 1950, 1960, 2000, 2010, 2020, 1990, 1970, 1980])"
      ]
     },
     "metadata": {},
     "output_type": "display_data"
    }
   ],
   "source": [
    "display(data['decade'].unique())"
   ]
  },
  {
   "cell_type": "code",
   "execution_count": 4,
   "metadata": {},
   "outputs": [
    {
     "data": {
      "text/html": [
       "<div>\n",
       "<style scoped>\n",
       "    .dataframe tbody tr th:only-of-type {\n",
       "        vertical-align: middle;\n",
       "    }\n",
       "\n",
       "    .dataframe tbody tr th {\n",
       "        vertical-align: top;\n",
       "    }\n",
       "\n",
       "    .dataframe thead th {\n",
       "        text-align: right;\n",
       "    }\n",
       "</style>\n",
       "<table border=\"1\" class=\"dataframe\">\n",
       "  <thead>\n",
       "    <tr style=\"text-align: right;\">\n",
       "      <th></th>\n",
       "      <th>acousticness</th>\n",
       "      <th>danceability</th>\n",
       "      <th>duration_ms</th>\n",
       "      <th>energy</th>\n",
       "      <th>explicit</th>\n",
       "      <th>instrumentalness</th>\n",
       "      <th>key</th>\n",
       "      <th>liveness</th>\n",
       "      <th>loudness</th>\n",
       "      <th>mode</th>\n",
       "      <th>popularity</th>\n",
       "      <th>speechiness</th>\n",
       "      <th>tempo</th>\n",
       "      <th>valence</th>\n",
       "      <th>year</th>\n",
       "    </tr>\n",
       "    <tr>\n",
       "      <th>decade</th>\n",
       "      <th></th>\n",
       "      <th></th>\n",
       "      <th></th>\n",
       "      <th></th>\n",
       "      <th></th>\n",
       "      <th></th>\n",
       "      <th></th>\n",
       "      <th></th>\n",
       "      <th></th>\n",
       "      <th></th>\n",
       "      <th></th>\n",
       "      <th></th>\n",
       "      <th></th>\n",
       "      <th></th>\n",
       "      <th></th>\n",
       "    </tr>\n",
       "  </thead>\n",
       "  <tbody>\n",
       "    <tr>\n",
       "      <th>1920</th>\n",
       "      <td>0.792778</td>\n",
       "      <td>0.585578</td>\n",
       "      <td>185738.310069</td>\n",
       "      <td>0.247832</td>\n",
       "      <td>0.127508</td>\n",
       "      <td>0.363801</td>\n",
       "      <td>5.311312</td>\n",
       "      <td>0.211462</td>\n",
       "      <td>-16.524045</td>\n",
       "      <td>0.692417</td>\n",
       "      <td>1.193926</td>\n",
       "      <td>0.296223</td>\n",
       "      <td>110.301210</td>\n",
       "      <td>0.545307</td>\n",
       "      <td>1926.264429</td>\n",
       "    </tr>\n",
       "    <tr>\n",
       "      <th>1930</th>\n",
       "      <td>0.816473</td>\n",
       "      <td>0.559221</td>\n",
       "      <td>198046.048867</td>\n",
       "      <td>0.279557</td>\n",
       "      <td>0.055741</td>\n",
       "      <td>0.242277</td>\n",
       "      <td>5.158863</td>\n",
       "      <td>0.222999</td>\n",
       "      <td>-15.277442</td>\n",
       "      <td>0.697417</td>\n",
       "      <td>2.213304</td>\n",
       "      <td>0.294471</td>\n",
       "      <td>110.918316</td>\n",
       "      <td>0.567892</td>\n",
       "      <td>1934.215347</td>\n",
       "    </tr>\n",
       "    <tr>\n",
       "      <th>1940</th>\n",
       "      <td>0.872075</td>\n",
       "      <td>0.473930</td>\n",
       "      <td>217754.919189</td>\n",
       "      <td>0.254483</td>\n",
       "      <td>0.068805</td>\n",
       "      <td>0.365700</td>\n",
       "      <td>5.171820</td>\n",
       "      <td>0.220712</td>\n",
       "      <td>-15.318251</td>\n",
       "      <td>0.703414</td>\n",
       "      <td>1.810882</td>\n",
       "      <td>0.152771</td>\n",
       "      <td>107.357398</td>\n",
       "      <td>0.488858</td>\n",
       "      <td>1944.893758</td>\n",
       "    </tr>\n",
       "    <tr>\n",
       "      <th>1950</th>\n",
       "      <td>0.838657</td>\n",
       "      <td>0.478492</td>\n",
       "      <td>219209.882650</td>\n",
       "      <td>0.285336</td>\n",
       "      <td>0.007750</td>\n",
       "      <td>0.244406</td>\n",
       "      <td>5.049750</td>\n",
       "      <td>0.210525</td>\n",
       "      <td>-14.802474</td>\n",
       "      <td>0.713750</td>\n",
       "      <td>10.723700</td>\n",
       "      <td>0.104190</td>\n",
       "      <td>110.576868</td>\n",
       "      <td>0.478069</td>\n",
       "      <td>1954.500000</td>\n",
       "    </tr>\n",
       "    <tr>\n",
       "      <th>1960</th>\n",
       "      <td>0.630583</td>\n",
       "      <td>0.492195</td>\n",
       "      <td>210467.122183</td>\n",
       "      <td>0.411080</td>\n",
       "      <td>0.000612</td>\n",
       "      <td>0.164533</td>\n",
       "      <td>5.099388</td>\n",
       "      <td>0.208061</td>\n",
       "      <td>-12.706971</td>\n",
       "      <td>0.754258</td>\n",
       "      <td>26.388679</td>\n",
       "      <td>0.057077</td>\n",
       "      <td>114.999240</td>\n",
       "      <td>0.548013</td>\n",
       "      <td>1964.475421</td>\n",
       "    </tr>\n",
       "    <tr>\n",
       "      <th>1970</th>\n",
       "      <td>0.403053</td>\n",
       "      <td>0.524642</td>\n",
       "      <td>253160.805150</td>\n",
       "      <td>0.530660</td>\n",
       "      <td>0.003380</td>\n",
       "      <td>0.117223</td>\n",
       "      <td>5.092206</td>\n",
       "      <td>0.215661</td>\n",
       "      <td>-11.457320</td>\n",
       "      <td>0.741972</td>\n",
       "      <td>34.542499</td>\n",
       "      <td>0.061523</td>\n",
       "      <td>119.706568</td>\n",
       "      <td>0.583318</td>\n",
       "      <td>1974.493041</td>\n",
       "    </tr>\n",
       "    <tr>\n",
       "      <th>1980</th>\n",
       "      <td>0.307810</td>\n",
       "      <td>0.544783</td>\n",
       "      <td>250780.815881</td>\n",
       "      <td>0.588056</td>\n",
       "      <td>0.023015</td>\n",
       "      <td>0.124724</td>\n",
       "      <td>5.267510</td>\n",
       "      <td>0.203275</td>\n",
       "      <td>-11.358411</td>\n",
       "      <td>0.710272</td>\n",
       "      <td>36.956810</td>\n",
       "      <td>0.061901</td>\n",
       "      <td>121.043312</td>\n",
       "      <td>0.561804</td>\n",
       "      <td>1984.491930</td>\n",
       "    </tr>\n",
       "    <tr>\n",
       "      <th>1990</th>\n",
       "      <td>0.319077</td>\n",
       "      <td>0.564811</td>\n",
       "      <td>247265.292011</td>\n",
       "      <td>0.578511</td>\n",
       "      <td>0.112702</td>\n",
       "      <td>0.118622</td>\n",
       "      <td>5.328660</td>\n",
       "      <td>0.195901</td>\n",
       "      <td>-10.154812</td>\n",
       "      <td>0.722009</td>\n",
       "      <td>43.120769</td>\n",
       "      <td>0.079917</td>\n",
       "      <td>119.351300</td>\n",
       "      <td>0.544343</td>\n",
       "      <td>1994.502263</td>\n",
       "    </tr>\n",
       "    <tr>\n",
       "      <th>2000</th>\n",
       "      <td>0.270266</td>\n",
       "      <td>0.566726</td>\n",
       "      <td>238248.429401</td>\n",
       "      <td>0.659233</td>\n",
       "      <td>0.126977</td>\n",
       "      <td>0.126819</td>\n",
       "      <td>5.254607</td>\n",
       "      <td>0.212158</td>\n",
       "      <td>-7.832524</td>\n",
       "      <td>0.686838</td>\n",
       "      <td>43.167320</td>\n",
       "      <td>0.085248</td>\n",
       "      <td>121.442669</td>\n",
       "      <td>0.536477</td>\n",
       "      <td>2004.695617</td>\n",
       "    </tr>\n",
       "    <tr>\n",
       "      <th>2010</th>\n",
       "      <td>0.229972</td>\n",
       "      <td>0.585211</td>\n",
       "      <td>256038.033845</td>\n",
       "      <td>0.658180</td>\n",
       "      <td>0.169673</td>\n",
       "      <td>0.232238</td>\n",
       "      <td>5.331374</td>\n",
       "      <td>0.217578</td>\n",
       "      <td>-8.195705</td>\n",
       "      <td>0.630461</td>\n",
       "      <td>29.579203</td>\n",
       "      <td>0.094355</td>\n",
       "      <td>123.233344</td>\n",
       "      <td>0.449535</td>\n",
       "      <td>2014.718949</td>\n",
       "    </tr>\n",
       "    <tr>\n",
       "      <th>2020</th>\n",
       "      <td>0.243684</td>\n",
       "      <td>0.619445</td>\n",
       "      <td>220112.123084</td>\n",
       "      <td>0.645645</td>\n",
       "      <td>0.154874</td>\n",
       "      <td>0.281332</td>\n",
       "      <td>5.306162</td>\n",
       "      <td>0.212786</td>\n",
       "      <td>-8.518572</td>\n",
       "      <td>0.592273</td>\n",
       "      <td>19.171014</td>\n",
       "      <td>0.103007</td>\n",
       "      <td>122.998693</td>\n",
       "      <td>0.463194</td>\n",
       "      <td>2020.299967</td>\n",
       "    </tr>\n",
       "  </tbody>\n",
       "</table>\n",
       "</div>"
      ],
      "text/plain": [
       "        acousticness  danceability    duration_ms    energy  explicit  \\\n",
       "decade                                                                  \n",
       "1920        0.792778      0.585578  185738.310069  0.247832  0.127508   \n",
       "1930        0.816473      0.559221  198046.048867  0.279557  0.055741   \n",
       "1940        0.872075      0.473930  217754.919189  0.254483  0.068805   \n",
       "1950        0.838657      0.478492  219209.882650  0.285336  0.007750   \n",
       "1960        0.630583      0.492195  210467.122183  0.411080  0.000612   \n",
       "1970        0.403053      0.524642  253160.805150  0.530660  0.003380   \n",
       "1980        0.307810      0.544783  250780.815881  0.588056  0.023015   \n",
       "1990        0.319077      0.564811  247265.292011  0.578511  0.112702   \n",
       "2000        0.270266      0.566726  238248.429401  0.659233  0.126977   \n",
       "2010        0.229972      0.585211  256038.033845  0.658180  0.169673   \n",
       "2020        0.243684      0.619445  220112.123084  0.645645  0.154874   \n",
       "\n",
       "        instrumentalness       key  liveness   loudness      mode  popularity  \\\n",
       "decade                                                                          \n",
       "1920            0.363801  5.311312  0.211462 -16.524045  0.692417    1.193926   \n",
       "1930            0.242277  5.158863  0.222999 -15.277442  0.697417    2.213304   \n",
       "1940            0.365700  5.171820  0.220712 -15.318251  0.703414    1.810882   \n",
       "1950            0.244406  5.049750  0.210525 -14.802474  0.713750   10.723700   \n",
       "1960            0.164533  5.099388  0.208061 -12.706971  0.754258   26.388679   \n",
       "1970            0.117223  5.092206  0.215661 -11.457320  0.741972   34.542499   \n",
       "1980            0.124724  5.267510  0.203275 -11.358411  0.710272   36.956810   \n",
       "1990            0.118622  5.328660  0.195901 -10.154812  0.722009   43.120769   \n",
       "2000            0.126819  5.254607  0.212158  -7.832524  0.686838   43.167320   \n",
       "2010            0.232238  5.331374  0.217578  -8.195705  0.630461   29.579203   \n",
       "2020            0.281332  5.306162  0.212786  -8.518572  0.592273   19.171014   \n",
       "\n",
       "        speechiness       tempo   valence         year  \n",
       "decade                                                  \n",
       "1920       0.296223  110.301210  0.545307  1926.264429  \n",
       "1930       0.294471  110.918316  0.567892  1934.215347  \n",
       "1940       0.152771  107.357398  0.488858  1944.893758  \n",
       "1950       0.104190  110.576868  0.478069  1954.500000  \n",
       "1960       0.057077  114.999240  0.548013  1964.475421  \n",
       "1970       0.061523  119.706568  0.583318  1974.493041  \n",
       "1980       0.061901  121.043312  0.561804  1984.491930  \n",
       "1990       0.079917  119.351300  0.544343  1994.502263  \n",
       "2000       0.085248  121.442669  0.536477  2004.695617  \n",
       "2010       0.094355  123.233344  0.449535  2014.718949  \n",
       "2020       0.103007  122.998693  0.463194  2020.299967  "
      ]
     },
     "metadata": {},
     "output_type": "display_data"
    }
   ],
   "source": [
    "avgs = data.groupby('decade').mean()\n",
    "display(avgs.head(11))"
   ]
  },
  {
   "cell_type": "code",
   "execution_count": 5,
   "metadata": {},
   "outputs": [
    {
     "data": {
      "text/html": [
       "<div>\n",
       "<style scoped>\n",
       "    .dataframe tbody tr th:only-of-type {\n",
       "        vertical-align: middle;\n",
       "    }\n",
       "\n",
       "    .dataframe tbody tr th {\n",
       "        vertical-align: top;\n",
       "    }\n",
       "\n",
       "    .dataframe thead th {\n",
       "        text-align: right;\n",
       "    }\n",
       "</style>\n",
       "<table border=\"1\" class=\"dataframe\">\n",
       "  <thead>\n",
       "    <tr style=\"text-align: right;\">\n",
       "      <th></th>\n",
       "      <th>acousticness</th>\n",
       "      <th>artists</th>\n",
       "      <th>danceability</th>\n",
       "      <th>duration_ms</th>\n",
       "      <th>energy</th>\n",
       "      <th>explicit</th>\n",
       "      <th>id</th>\n",
       "      <th>instrumentalness</th>\n",
       "      <th>key</th>\n",
       "      <th>liveness</th>\n",
       "      <th>loudness</th>\n",
       "      <th>mode</th>\n",
       "      <th>name</th>\n",
       "      <th>popularity</th>\n",
       "      <th>release_date</th>\n",
       "      <th>speechiness</th>\n",
       "      <th>tempo</th>\n",
       "      <th>valence</th>\n",
       "      <th>year</th>\n",
       "      <th>decade</th>\n",
       "    </tr>\n",
       "  </thead>\n",
       "  <tbody>\n",
       "    <tr>\n",
       "      <th>71216</th>\n",
       "      <td>0.9790</td>\n",
       "      <td>['The Fleetwoods']</td>\n",
       "      <td>0.283</td>\n",
       "      <td>167733</td>\n",
       "      <td>0.0168</td>\n",
       "      <td>0</td>\n",
       "      <td>6mTiMe3NwgOrdAcYWnm0kw</td>\n",
       "      <td>0.000091</td>\n",
       "      <td>1</td>\n",
       "      <td>0.1010</td>\n",
       "      <td>-23.882</td>\n",
       "      <td>1</td>\n",
       "      <td>Unchained Melody</td>\n",
       "      <td>44</td>\n",
       "      <td>1993-01-01</td>\n",
       "      <td>0.0343</td>\n",
       "      <td>84.502</td>\n",
       "      <td>0.0656</td>\n",
       "      <td>1993</td>\n",
       "      <td>1990</td>\n",
       "    </tr>\n",
       "    <tr>\n",
       "      <th>5719</th>\n",
       "      <td>0.4800</td>\n",
       "      <td>['Acerina Y Su Danzonera']</td>\n",
       "      <td>0.350</td>\n",
       "      <td>203787</td>\n",
       "      <td>0.5900</td>\n",
       "      <td>0</td>\n",
       "      <td>4L69BoE55Rl105sozTJNfK</td>\n",
       "      <td>0.395000</td>\n",
       "      <td>10</td>\n",
       "      <td>0.2590</td>\n",
       "      <td>-11.337</td>\n",
       "      <td>1</td>\n",
       "      <td>Rigoletito</td>\n",
       "      <td>33</td>\n",
       "      <td>1949</td>\n",
       "      <td>0.0682</td>\n",
       "      <td>134.729</td>\n",
       "      <td>0.7990</td>\n",
       "      <td>1949</td>\n",
       "      <td>1940</td>\n",
       "    </tr>\n",
       "    <tr>\n",
       "      <th>51542</th>\n",
       "      <td>0.0987</td>\n",
       "      <td>['R.E.M.']</td>\n",
       "      <td>0.442</td>\n",
       "      <td>170800</td>\n",
       "      <td>0.7040</td>\n",
       "      <td>0</td>\n",
       "      <td>181ERlg2wowFuRobnrMZJ2</td>\n",
       "      <td>0.000241</td>\n",
       "      <td>9</td>\n",
       "      <td>0.1380</td>\n",
       "      <td>-10.831</td>\n",
       "      <td>0</td>\n",
       "      <td>Fall On Me</td>\n",
       "      <td>40</td>\n",
       "      <td>1986-07-28</td>\n",
       "      <td>0.0416</td>\n",
       "      <td>118.120</td>\n",
       "      <td>0.5380</td>\n",
       "      <td>1986</td>\n",
       "      <td>1980</td>\n",
       "    </tr>\n",
       "    <tr>\n",
       "      <th>131445</th>\n",
       "      <td>0.6010</td>\n",
       "      <td>['Stan Kenton']</td>\n",
       "      <td>0.263</td>\n",
       "      <td>174653</td>\n",
       "      <td>0.2520</td>\n",
       "      <td>0</td>\n",
       "      <td>6DDPH3Yrdn3iJQcCosVjNQ</td>\n",
       "      <td>0.286000</td>\n",
       "      <td>0</td>\n",
       "      <td>0.1370</td>\n",
       "      <td>-9.214</td>\n",
       "      <td>0</td>\n",
       "      <td>You Stepped Out Of A Dream - Remastered</td>\n",
       "      <td>10</td>\n",
       "      <td>1962-01-01</td>\n",
       "      <td>0.0274</td>\n",
       "      <td>92.351</td>\n",
       "      <td>0.0973</td>\n",
       "      <td>1962</td>\n",
       "      <td>1960</td>\n",
       "    </tr>\n",
       "    <tr>\n",
       "      <th>94604</th>\n",
       "      <td>0.9090</td>\n",
       "      <td>['Ruggero Leoncavallo', 'Karl Böhm', 'Staatska...</td>\n",
       "      <td>0.211</td>\n",
       "      <td>213800</td>\n",
       "      <td>0.1780</td>\n",
       "      <td>0</td>\n",
       "      <td>4k8gfZc9CfCiUQ7OQ9Q4bZ</td>\n",
       "      <td>0.917000</td>\n",
       "      <td>4</td>\n",
       "      <td>0.0861</td>\n",
       "      <td>-16.841</td>\n",
       "      <td>1</td>\n",
       "      <td>Leoncavallo: Pagliacci, Act 1: Intermezzo</td>\n",
       "      <td>0</td>\n",
       "      <td>1935</td>\n",
       "      <td>0.0415</td>\n",
       "      <td>74.311</td>\n",
       "      <td>0.0359</td>\n",
       "      <td>1935</td>\n",
       "      <td>1930</td>\n",
       "    </tr>\n",
       "  </tbody>\n",
       "</table>\n",
       "</div>"
      ],
      "text/plain": [
       "        acousticness                                            artists  \\\n",
       "71216         0.9790                                 ['The Fleetwoods']   \n",
       "5719          0.4800                         ['Acerina Y Su Danzonera']   \n",
       "51542         0.0987                                         ['R.E.M.']   \n",
       "131445        0.6010                                    ['Stan Kenton']   \n",
       "94604         0.9090  ['Ruggero Leoncavallo', 'Karl Böhm', 'Staatska...   \n",
       "\n",
       "        danceability  duration_ms  energy  explicit                      id  \\\n",
       "71216          0.283       167733  0.0168         0  6mTiMe3NwgOrdAcYWnm0kw   \n",
       "5719           0.350       203787  0.5900         0  4L69BoE55Rl105sozTJNfK   \n",
       "51542          0.442       170800  0.7040         0  181ERlg2wowFuRobnrMZJ2   \n",
       "131445         0.263       174653  0.2520         0  6DDPH3Yrdn3iJQcCosVjNQ   \n",
       "94604          0.211       213800  0.1780         0  4k8gfZc9CfCiUQ7OQ9Q4bZ   \n",
       "\n",
       "        instrumentalness  key  liveness  loudness  mode  \\\n",
       "71216           0.000091    1    0.1010   -23.882     1   \n",
       "5719            0.395000   10    0.2590   -11.337     1   \n",
       "51542           0.000241    9    0.1380   -10.831     0   \n",
       "131445          0.286000    0    0.1370    -9.214     0   \n",
       "94604           0.917000    4    0.0861   -16.841     1   \n",
       "\n",
       "                                             name  popularity release_date  \\\n",
       "71216                            Unchained Melody          44   1993-01-01   \n",
       "5719                                   Rigoletito          33         1949   \n",
       "51542                                  Fall On Me          40   1986-07-28   \n",
       "131445    You Stepped Out Of A Dream - Remastered          10   1962-01-01   \n",
       "94604   Leoncavallo: Pagliacci, Act 1: Intermezzo           0         1935   \n",
       "\n",
       "        speechiness    tempo  valence  year  decade  \n",
       "71216        0.0343   84.502   0.0656  1993    1990  \n",
       "5719         0.0682  134.729   0.7990  1949    1940  \n",
       "51542        0.0416  118.120   0.5380  1986    1980  \n",
       "131445       0.0274   92.351   0.0973  1962    1960  \n",
       "94604        0.0415   74.311   0.0359  1935    1930  "
      ]
     },
     "execution_count": 5,
     "metadata": {},
     "output_type": "execute_result"
    }
   ],
   "source": [
    "data.sample(5)"
   ]
  },
  {
   "cell_type": "code",
   "execution_count": 6,
   "metadata": {},
   "outputs": [
    {
     "data": {
      "image/png": "[encoded data removed]",
      "text/plain": [
       "<Figure size 864x576 with 1 Axes>"
      ]
     },
     "metadata": {
      "needs_background": "light"
     },
     "output_type": "display_data"
    }
   ],
   "source": [
    "trends = avgs.drop([\"duration_ms\",\"explicit\",\"key\",\"mode\",\"year\",\"tempo\",\"popularity\",\"loudness\"],axis=1)\n",
    "trends.plot(figsize=(12,8)).legend(title='Feature', bbox_to_anchor=(1, 1));"
   ]
  },
  {
   "cell_type": "code",
   "execution_count": 7,
   "metadata": {},
   "outputs": [
    {
     "data": {
      "image/png": "[encoded data removed]",
      "text/plain": [
       "<Figure size 1080x720 with 4 Axes>"
      ]
     },
     "metadata": {
      "needs_background": "light"
     },
     "output_type": "display_data"
    }
   ],
   "source": [
    "avgs2 = data.groupby('year').mean()\n",
    "avgs2['year'] = avgs2.index\n",
    "fig, axs = plt.subplots(2, 2, figsize=(15,10))\n",
    "axs[0, 0].bar(avgs2['year'], avgs2['acousticness'])\n",
    "axs[0, 0].set_ylabel(\"Acousticness\")\n",
    "axs[0, 0].set_xlabel(\"Year\")\n",
    "axs[0, 1].bar(avgs2['year'], avgs2['instrumentalness'])\n",
    "axs[0, 1].set_ylabel(\"Instrumentalness\")\n",
    "axs[0, 1].set_xlabel(\"Year\")\n",
    "axs[1, 0].bar(avgs2['year'], avgs2['loudness'])\n",
    "axs[1, 0].set_ylabel(\"Loudness\")\n",
    "axs[1, 0].set_xlabel(\"Year\")\n",
    "axs[1, 1].bar(avgs2['year'], avgs2['energy'])\n",
    "axs[1, 1].set_ylabel(\"Energy\")\n",
    "axs[1, 1].set_xlabel(\"Year\");"
   ]
  },
  {
   "cell_type": "code",
   "execution_count": 8,
   "metadata": {},
   "outputs": [
    {
     "data": {
      "image/png": "[encoded data removed]",
      "text/plain": [
       "<Figure size 1080x360 with 1 Axes>"
      ]
     },
     "metadata": {
      "needs_background": "light"
     },
     "output_type": "display_data"
    }
   ],
   "source": [
    "fig, axs = plt.subplots(1, 1, figsize=(15,5))\n",
    "axs.bar(avgs2['year'], avgs2['explicit'], color='red')\n",
    "axs.set_ylabel(\"Average Explicitness\")\n",
    "axs.set_xlabel(\"Year\");"
   ]
  },
  {
   "cell_type": "code",
   "execution_count": 9,
   "metadata": {},
   "outputs": [
    {
     "data": {
      "image/png": "[encoded data removed]",
      "text/plain": [
       "<Figure size 864x576 with 2 Axes>"
      ]
     },
     "metadata": {
      "needs_background": "light"
     },
     "output_type": "display_data"
    }
   ],
   "source": [
    "import seaborn as sns\n",
    "plt.figure(figsize=(12,8))\n",
    "sns.heatmap(avgs.corr(), linewidths= 0.75, linecolor='green', annot=True);"
   ]
  },
  {
   "cell_type": "markdown",
   "metadata": {},
   "source": [
    "### Model Training & Testing"
   ]
  },
  {
   "cell_type": "markdown",
   "metadata": {},
   "source": [
    "#### Random Forest"
   ]
  },
  {
   "cell_type": "code",
   "execution_count": 10,
   "metadata": {},
   "outputs": [],
   "source": [
    "spark = SparkSession.builder \\\n",
    "        .master(\"local[*]\") \\\n",
    "        .appName(\"ProjectSpark\") \\\n",
    "        .getOrCreate()"
   ]
  },
  {
   "cell_type": "code",
   "execution_count": 11,
   "metadata": {},
   "outputs": [],
   "source": [
    "schema = StructType([\n",
    "    StructField(\"acousticness\", FloatType()),\n",
    "    # StructField(\"artists\", StringType()),\n",
    "    StructField(\"danceability\", FloatType()),\n",
    "    StructField(\"duration_ms\", IntegerType()),\n",
    "    StructField(\"energy\", FloatType()),\n",
    "    StructField(\"explicit\", IntegerType()),\n",
    "    StructField(\"id\", StringType()),\n",
    "    StructField(\"instrumentalness\", FloatType()),\n",
    "    StructField(\"key\", IntegerType()),\n",
    "    StructField(\"liveness\", FloatType()),\n",
    "    StructField(\"loudness\", FloatType()),\n",
    "    StructField(\"mode\", IntegerType()),\n",
    "    # StructField(\"name\", StringType()),\n",
    "    StructField(\"popularity\", IntegerType()),\n",
    "    # StructField(\"release_date\", StringType()),\n",
    "    StructField(\"speechiness\", FloatType()),\n",
    "    StructField(\"tempo\", FloatType()),\n",
    "    StructField(\"valence\", FloatType()),\n",
    "    StructField(\"year\", IntegerType()),\n",
    "    StructField(\"decade\", IntegerType())\n",
    "])"
   ]
  },
  {
   "cell_type": "code",
   "execution_count": 12,
   "metadata": {},
   "outputs": [
    {
     "name": "stdout",
     "output_type": "stream",
     "text": [
      "root\n",
      " |-- acousticness: float (nullable = true)\n",
      " |-- danceability: float (nullable = true)\n",
      " |-- duration_ms: integer (nullable = true)\n",
      " |-- energy: float (nullable = true)\n",
      " |-- explicit: integer (nullable = true)\n",
      " |-- id: string (nullable = true)\n",
      " |-- instrumentalness: float (nullable = true)\n",
      " |-- key: integer (nullable = true)\n",
      " |-- liveness: float (nullable = true)\n",
      " |-- loudness: float (nullable = true)\n",
      " |-- mode: integer (nullable = true)\n",
      " |-- popularity: integer (nullable = true)\n",
      " |-- speechiness: float (nullable = true)\n",
      " |-- tempo: float (nullable = true)\n",
      " |-- valence: float (nullable = true)\n",
      " |-- year: integer (nullable = true)\n",
      " |-- decade: integer (nullable = true)\n",
      "\n"
     ]
    }
   ],
   "source": [
    "modelDf = spark.read.format(\"csv\").option(\"header\", \"true\").schema(schema).load(\"withDecade.csv\")\n",
    "modelDf.printSchema()"
   ]
  },
  {
   "cell_type": "code",
   "execution_count": 13,
   "metadata": {},
   "outputs": [
    {
     "data": {
      "text/plain": [
       "Row(acousticness=0.0, danceability=0.0, duration_ms=5991, energy=0.0, explicit=0, id='3IcXTeq9O2dpsSXsDj9naH', instrumentalness=0.0, key=0, liveness=0.0, loudness=-60.0, mode=0, popularity=0, speechiness=0.0, tempo=0.0, valence=0.0, year=1938, decade=1930)"
      ]
     },
     "execution_count": 13,
     "metadata": {},
     "output_type": "execute_result"
    }
   ],
   "source": [
    "## Split Data into Training & Test Sets\n",
    "(trainSet, testSet) = modelDf.randomSplit([0.75, 0.25], seed=314)\n",
    "trainSet.head()"
   ]
  },
  {
   "cell_type": "code",
   "execution_count": 14,
   "metadata": {},
   "outputs": [],
   "source": [
    "## Define RF Pipeline Step 1\n",
    "labIndex = StringIndexer(inputCol=\"decade\", outputCol=\"decadeIndex\").setHandleInvalid(\"skip\").fit(modelDf)\n",
    "## RF Pipeline Step 2\n",
    "featureVecs = VectorAssembler(inputCols=[\"acousticness\", \"danceability\", \"energy\", \"instrumentalness\", \"liveness\", \"loudness\", \n",
    "                                        \"speechiness\", \"tempo\", \"valence\"], outputCol=\"features\")\n",
    "## RF Pipeline Step 3\n",
    "randomBoi = RandomForestClassifier(labelCol=\"decadeIndex\", featuresCol=\"features\", numTrees=10)\n",
    "## RF Pipeline Step 4\n",
    "reLabel = IndexToString(inputCol=\"prediction\", outputCol=\"predictedLabel\", labels=labIndex.labels)"
   ]
  },
  {
   "cell_type": "code",
   "execution_count": 15,
   "metadata": {},
   "outputs": [],
   "source": [
    "## Define RF Pipeline Stages\n",
    "randoPipe = Pipeline(stages=[labIndex, featureVecs, randomBoi, reLabel])"
   ]
  },
  {
   "cell_type": "code",
   "execution_count": 16,
   "metadata": {},
   "outputs": [],
   "source": [
    "## Define evaluation metric\n",
    "eval = MulticlassClassificationEvaluator(labelCol=\"decadeIndex\", predictionCol=\"prediction\", metricName=\"accuracy\")"
   ]
  },
  {
   "cell_type": "code",
   "execution_count": 17,
   "metadata": {},
   "outputs": [],
   "source": [
    "## Define Parameter grid\n",
    "paramGrid = (ParamGridBuilder()\\\n",
    "             .addGrid(randomBoi.maxDepth, [2, 5, 10])\\\n",
    "             .addGrid(randomBoi.maxBins, [5, 10, 20])\\\n",
    "             .addGrid(randomBoi.numTrees, [5, 20, 50])\\\n",
    "             .build())\n",
    "\n",
    "crossval = CrossValidator(\n",
    "    estimator=randoPipe,\n",
    "    estimatorParamMaps=paramGrid,\n",
    "    evaluator=eval,\n",
    "    numFolds=5)\n",
    "\n",
    "randomModel = crossval.fit(trainSet)"
   ]
  },
  {
   "cell_type": "markdown",
   "metadata": {},
   "source": [
    "#### RF Predictions & Testing"
   ]
  },
  {
   "cell_type": "code",
   "execution_count": 81,
   "metadata": {},
   "outputs": [],
   "source": [
    "preds = randomModel.transform(testSet)"
   ]
  },
  {
   "cell_type": "code",
   "execution_count": 82,
   "metadata": {},
   "outputs": [
    {
     "name": "stdout",
     "output_type": "stream",
     "text": [
      "Test Error = 0.629854\n"
     ]
    }
   ],
   "source": [
    "accRF = eval.evaluate(preds)\n",
    "print(\"Test Error = %g\" % (1.0 - accRF))"
   ]
  },
  {
   "cell_type": "code",
   "execution_count": 20,
   "metadata": {},
   "outputs": [
    {
     "name": "stdout",
     "output_type": "stream",
     "text": [
      "RandomForestClassificationModel: uid=RandomForestClassifier_e43d5d0504b4, numTrees=50, numClasses=11, numFeatures=9\n"
     ]
    }
   ],
   "source": [
    "print(randomModel.bestModel.stages[2])"
   ]
  },
  {
   "cell_type": "markdown",
   "metadata": {},
   "source": [
    "#### Decision Tree"
   ]
  },
  {
   "cell_type": "code",
   "execution_count": 21,
   "metadata": {},
   "outputs": [],
   "source": [
    "from pyspark.ml.classification import DecisionTreeClassifier"
   ]
  },
  {
   "cell_type": "code",
   "execution_count": 22,
   "metadata": {},
   "outputs": [],
   "source": [
    "## Define DT Pipeline Step 1\n",
    "labIndex = StringIndexer(inputCol=\"decade\", outputCol=\"decadeIndex\").setHandleInvalid(\"skip\").fit(modelDf)\n",
    "## Define DT Pipeline Step 2\n",
    "assembler = VectorAssembler(inputCols=[\"acousticness\", \"danceability\", \"energy\", \"explicit\", \"instrumentalness\", \n",
    "                                       \"key\", \"liveness\", \"loudness\", \"mode\",\n",
    "                                       \"speechiness\", \"tempo\", \"valence\"], outputCol=\"features\")\n",
    "## Define DT Pipeline Step 3\n",
    "featureIndexer =\\\n",
    "    VectorIndexer(inputCol=\"features\", outputCol=\"indexedFeatures\", maxCategories=12)\n",
    "## Define DT Pipeline Step 4\n",
    "dt = DecisionTreeClassifier(labelCol=\"decadeIndex\", featuresCol=\"indexedFeatures\")\n",
    "## Define DT Pipeline Step 5\n",
    "reLabel = IndexToString(inputCol=\"prediction\", outputCol=\"predictedLabel\", labels=labIndex.labels)"
   ]
  },
  {
   "cell_type": "code",
   "execution_count": 23,
   "metadata": {},
   "outputs": [],
   "source": [
    "## Define DT Pipeline Stages\n",
    "pipeDT = Pipeline(stages=[labIndex, assembler, featureIndexer, dt, reLabel])"
   ]
  },
  {
   "cell_type": "code",
   "execution_count": 24,
   "metadata": {},
   "outputs": [],
   "source": [
    "pgDT = (ParamGridBuilder()\\\n",
    "             .addGrid(randomBoi.maxDepth, [5, 10, 20, 100])\\\n",
    "             .addGrid(randomBoi.maxBins, [5, 10, 20, 100])\\\n",
    "             .build())\n",
    "\n",
    "cvDT = CrossValidator(\n",
    "    estimator=pipeDT,\n",
    "    estimatorParamMaps=pgDT,\n",
    "    evaluator=eval,\n",
    "    numFolds=10)\n",
    "\n",
    "dtmod = cvDT.fit(trainSet)"
   ]
  },
  {
   "cell_type": "markdown",
   "metadata": {},
   "source": [
    "#### DT Predictions and Testing"
   ]
  },
  {
   "cell_type": "code",
   "execution_count": 25,
   "metadata": {},
   "outputs": [],
   "source": [
    "preds = dtmod.transform(testSet)"
   ]
  },
  {
   "cell_type": "code",
   "execution_count": 26,
   "metadata": {},
   "outputs": [
    {
     "name": "stdout",
     "output_type": "stream",
     "text": [
      "Test Error = 0.705936 \n"
     ]
    }
   ],
   "source": [
    "accDT = eval.evaluate(preds)\n",
    "print(\"Test Error = %g \" % (1.0 - accDT))"
   ]
  },
  {
   "cell_type": "markdown",
   "metadata": {},
   "source": [
    "#### OneVsRest utilizing Logistic Regression"
   ]
  },
  {
   "cell_type": "code",
   "execution_count": 27,
   "metadata": {},
   "outputs": [],
   "source": [
    "from pyspark.ml.classification import LogisticRegression, OneVsRest\n",
    "from pyspark.ml.feature import MaxAbsScaler"
   ]
  },
  {
   "cell_type": "code",
   "execution_count": 28,
   "metadata": {},
   "outputs": [],
   "source": [
    "## Define OvR Pipeline Steps\n",
    "## Step 1\n",
    "labIndex = StringIndexer(inputCol=\"decade\", outputCol=\"decadeIndex\").setHandleInvalid(\"skip\").fit(modelDf)\n",
    "## Step 2\n",
    "featVec = VectorAssembler(inputCols=[\"acousticness\", \"danceability\", \"energy\", \"instrumentalness\", \n",
    "                                       \"liveness\", \"loudness\", \"explicit\", \"mode\", \"key\",\n",
    "                                       \"speechiness\", \"tempo\", \"valence\"],outputCol=\"features\")\n",
    "## Step 3\n",
    "## Scale Features\n",
    "scaler = MaxAbsScaler(inputCol=\"features\", outputCol=\"scaledFeatures\")\n",
    "## Step 4\n",
    "## Instantiate base classifier\n",
    "lr = LogisticRegression(maxIter=1000, tol=1e-6, fitIntercept=True)\n",
    "## Instatiate One Vs Rest Classifier\n",
    "ovr = OneVsRest(classifier=lr,featuresCol='scaledFeatures',labelCol='decadeIndex',predictionCol=\"newPrediction\")\n",
    "## Step 5\n",
    "reLabel = IndexToString(inputCol=\"newPrediction\",outputCol=\"predictedLabel\",labels=labIndex.labels)"
   ]
  },
  {
   "cell_type": "code",
   "execution_count": 29,
   "metadata": {},
   "outputs": [],
   "source": [
    "## Define OvR Pipeline Stages\n",
    "pipOvR = Pipeline(stages=[labIndex, featVec, scaler, ovr, reLabel])"
   ]
  },
  {
   "cell_type": "code",
   "execution_count": 30,
   "metadata": {},
   "outputs": [],
   "source": [
    "## Define Evaluation Metric\n",
    "eva1vr=MulticlassClassificationEvaluator(labelCol=\"decadeIndex\",predictionCol=\"newPrediction\",metricName=\"accuracy\")"
   ]
  },
  {
   "cell_type": "code",
   "execution_count": 31,
   "metadata": {},
   "outputs": [],
   "source": [
    "pg1vr = (ParamGridBuilder()\\\n",
    "             .addGrid(lr.maxIter, [10, 100, 1000])\\\n",
    "             .addGrid(lr.elasticNetParam, [0, 0.1, 1])\\\n",
    "             .build())\n",
    "\n",
    "cv1vr = CrossValidator(\n",
    "    estimator=pipOvR,\n",
    "    estimatorParamMaps=pg1vr,\n",
    "    evaluator=eva1vr,\n",
    "    numFolds=5)\n",
    "\n",
    "OvRmod = cv1vr.fit(trainSet)"
   ]
  },
  {
   "cell_type": "markdown",
   "metadata": {},
   "source": [
    "#### OneVsRest Predictions and Testing"
   ]
  },
  {
   "cell_type": "code",
   "execution_count": 32,
   "metadata": {},
   "outputs": [
    {
     "name": "stdout",
     "output_type": "stream",
     "text": [
      "Test Error = 0.693229 \n"
     ]
    }
   ],
   "source": [
    "OvrPreds = OvRmod.transform(testSet)\n",
    "acc1vr = eva1vr.evaluate(OvrPreds)\n",
    "print(\"Test Error = %g \" % (1.0 - acc1vr))"
   ]
  },
  {
   "cell_type": "code",
   "execution_count": 33,
   "metadata": {},
   "outputs": [
    {
     "name": "stdout",
     "output_type": "stream",
     "text": [
      "Log Model 1 Coefficients: [-1.2154560750546048,2.8514309009980914,0.00990286463979539,1.0839395665452563,0.2842245144594308,9.096713105281587,0.6789707644783467,-0.11207369220318475,0.03414882538531857,-0.6510667827309735,1.1548032094188532,-2.9127878269922207]\n",
      "Log Model 2 Coefficients: [-1.3846019866976769,0.5394742618024523,0.3849566547679685,-0.8401650955296365,-0.484998042915969,-1.9076530587497404,0.5758470462022712,0.19411439810428466,0.12910991846617864,-2.150135636500643,-0.16194397237438432,-0.2609280505959264]\n",
      "Log Model 3 Coefficients: [-1.2575623177890634,-1.4707228836959794,0.21091701601841384,-1.2153617424523149,0.20931087437974336,-4.626807329917335,-2.9018275515438012,0.12914567764653076,-0.13049095926444584,-2.6260481533308235,-0.1637579292451052,1.4000085157166693]\n",
      "Log Model 4 Coefficients: [-1.6634273991509831,0.4103601794171847,2.604186241716652,-1.4165780960894616,-0.2894266242399698,-10.810710719679047,-1.0002289713519785,0.0558807416478453,0.04228136260888012,-3.944362760533583,0.38808881470940465,-0.03876305449622362]\n",
      "Log Model 5 Coefficients: [3.1978830613107836,-1.1886374722021138,-1.2060420391878863,-0.5420364235551342,0.15375911281988103,0.32112812818148745,-1.27371998943667,-0.11614751106153687,-0.10948366614887324,0.5710020725632093,-0.1310057483886691,0.7417224470136528]\n",
      "Log Model 6 Coefficients: [0.5944919250403069,-2.212343501170945,-0.7549891264858594,-0.904874899794128,0.05742986825242141,-0.9080481293708373,-3.653574197002705,0.10076303297714283,-0.04533954207340929,-3.0759521720073617,-0.4278418007209655,1.742747585642799]\n",
      "Log Model 7 Coefficients: [3.589664134012415,-2.7940170804803413,-3.334241407082047,0.8147069765983131,0.532032071058872,4.134205922759099,1.4841231524553444,-0.07905245750641185,0.043227136718874966,1.8650992398948592,-0.901548536761203,1.9954346226139432]\n",
      "Log Model 8 Coefficients: [-0.8111608073539606,0.3497878818809779,-0.15333828287946114,-0.1684647483373162,-0.12090570436211034,10.417686364342835,0.23283418301012604,0.04459677895242425,-0.0030941614837134415,-0.4086375709151432,-0.2283356650998303,-0.595160651595159]\n",
      "Log Model 9 Coefficients: [3.0960633270021107,-0.5999123956206778,-2.3408555349064124,0.28009560199040046,-0.10966995836324449,2.733800487838685,-0.9371079407631402,-0.08713509888986826,-0.10015802738606093,3.8190616117838925,-0.1091614229074067,1.8847223717191324]\n",
      "Log Model 10 Coefficients: [-0.9032899575693246,3.4822951565660216,-0.0141754490160965,1.182026542827343,0.29761648105739824,6.856114811394726,0.21792181445498007,-0.24683940948434996,-0.07641886041351488,0.08427641246648511,1.0249024260577668,-2.1257706374209815]\n",
      "Log Model 11 Coefficients: [2.073707699976093,2.310374725852118,-2.7309548919007893,1.4182862198879906,0.3339338512366114,0.08892863373213342,0.6509137946552863,-0.02452780743888206,0.1543621940747279,2.3011646730321433,0.19365561050214478,0.9411675644208911]\n"
     ]
    }
   ],
   "source": [
    "coeffs = []\n",
    "for x in range(0,11):\n",
    "    coeffs.append(OvRmod.bestModel.stages[3].models[x].coefficients)\n",
    "\n",
    "for i,p in enumerate(coeffs):\n",
    "    print('Log Model {} Coefficients: {}'.format(i+1, p))"
   ]
  },
  {
   "cell_type": "markdown",
   "metadata": {},
   "source": [
    "#### Multinomial Logistic Regression"
   ]
  },
  {
   "cell_type": "code",
   "execution_count": 56,
   "metadata": {},
   "outputs": [],
   "source": [
    "from pyspark.ml.feature import OneHotEncoder, OneHotEncoderModel\n",
    "from pyspark.ml.feature import StandardScaler"
   ]
  },
  {
   "cell_type": "code",
   "execution_count": 57,
   "metadata": {},
   "outputs": [],
   "source": [
    "modelDf = modelDf.withColumn(\"explicit\", modelDf[\"explicit\"].cast(StringType()))\n",
    "modelDf = modelDf.withColumn(\"mode\", modelDf[\"mode\"].cast(StringType()))\n",
    "# modelDf.printSchema()"
   ]
  },
  {
   "cell_type": "code",
   "execution_count": 58,
   "metadata": {},
   "outputs": [],
   "source": [
    "categoricalColumns = ['explicit','mode']\n",
    "stages = []\n",
    "for categoricalCol in categoricalColumns:\n",
    "    # Category Indexing with StringIndexer\n",
    "    stringIndexer = StringIndexer(inputCol = categoricalCol, outputCol = categoricalCol + 'Index')\n",
    "    # Use OneHotEncoder to convert categorical variables into binary SparseVectors\n",
    "    encoder = OneHotEncoder(inputCols=[stringIndexer.getOutputCol()], outputCols=[categoricalCol + \"classVec\"])\n",
    "    stages += [stringIndexer, encoder]\n",
    "\n",
    "    \n",
    "labelIndexer = StringIndexer(inputCol = 'decade', outputCol = 'label')"
   ]
  },
  {
   "cell_type": "code",
   "execution_count": 59,
   "metadata": {},
   "outputs": [],
   "source": [
    "stages += [labelIndexer]\n",
    "\n",
    "numericCols = [\"acousticness\", \"danceability\", \"energy\", \"instrumentalness\", \"liveness\", \"loudness\", \"speechiness\", \"tempo\", \"valence\"]\n",
    "assemblerInputs = [c + \"classVec\" for c in categoricalColumns] + numericCols\n",
    "assembler = VectorAssembler(inputCols=assemblerInputs, outputCol=\"unscaled_features\")\n",
    "stages += [assembler]\n",
    "\n",
    "\n",
    "#standardize and scale features to mean 0 and variance 1\n",
    "standardScaler = StandardScaler(inputCol=\"unscaled_features\",\n",
    "                                outputCol=\"features\",\n",
    "                                withMean=True,\n",
    "                                withStd=True)\n",
    "stages += [standardScaler]"
   ]
  },
  {
   "cell_type": "code",
   "execution_count": 60,
   "metadata": {},
   "outputs": [],
   "source": [
    "pipeline = Pipeline(stages = stages)\n",
    "pipelineModel = pipeline.fit(modelDf)\n",
    "dff2 = pipelineModel.transform(modelDf)"
   ]
  },
  {
   "cell_type": "code",
   "execution_count": 61,
   "metadata": {},
   "outputs": [],
   "source": [
    "lr = LogisticRegression(labelCol=\"label\", featuresCol=\"features\", maxIter=10)"
   ]
  },
  {
   "cell_type": "code",
   "execution_count": 62,
   "metadata": {},
   "outputs": [],
   "source": [
    "(training, test) = dff2.randomSplit([0.75, 0.25], seed=314)"
   ]
  },
  {
   "cell_type": "code",
   "execution_count": 63,
   "metadata": {},
   "outputs": [],
   "source": [
    "lrModel = lr.fit(training)\n",
    "\n",
    "#Row(acousticness=0.0, danceability=0.0, duration_ms=5108, energy=0.0, explicit=0, id='0hr9kRUi2X4MXc72A4VxG4', instrumentalness=0.0, key=0, liveness=0.0, loudness=-60.0, mode=0, popularity=0, speechiness=0.0, tempo=0.0, valence=0.0, year=1949, decade=1940)"
   ]
  },
  {
   "cell_type": "code",
   "execution_count": 65,
   "metadata": {},
   "outputs": [],
   "source": [
    "predictions = lrModel.transform(test)"
   ]
  },
  {
   "cell_type": "markdown",
   "metadata": {},
   "source": [
    "#### MLR Predictions and Testing"
   ]
  },
  {
   "cell_type": "code",
   "execution_count": 71,
   "metadata": {},
   "outputs": [
    {
     "name": "stdout",
     "output_type": "stream",
     "text": [
      "Test Error = 0.689488 \n"
     ]
    }
   ],
   "source": [
    "evamlr=MulticlassClassificationEvaluator(labelCol=\"label\",predictionCol=\"prediction\",metricName=\"accuracy\")\n",
    "accMLR = evamlr.evaluate(predictions)\n",
    "print(\"Test Error = %g \" % (1.0 - accMLR))"
   ]
  },
  {
   "cell_type": "code",
   "execution_count": 72,
   "metadata": {},
   "outputs": [
    {
     "name": "stdout",
     "output_type": "stream",
     "text": [
      "+-----+--------------------+----------+--------------------+\n",
      "|label|       rawPrediction|prediction|         probability|\n",
      "+-----+--------------------+----------+--------------------+\n",
      "|  9.0|[3.70021927409786...|       0.0|[0.47556504828061...|\n",
      "|  1.0|[1.34874657323978...|       3.0|[0.07676325526366...|\n",
      "|  7.0|[1.67774021844005...|       0.0|[0.20980838718027...|\n",
      "|  2.0|[2.55749610407808...|       0.0|[0.36012436572898...|\n",
      "|  1.0|[2.93861878417222...|       0.0|[0.25627527095404...|\n",
      "|  7.0|[1.88043681458655...|       0.0|[0.21869461611173...|\n",
      "|  1.0|[4.95290279108750...|       0.0|[0.62974440863166...|\n",
      "|  3.0|[3.07569821655385...|       0.0|[0.35193717701655...|\n",
      "|  3.0|[1.78413127269503...|       3.0|[0.11407998633652...|\n",
      "|  1.0|[1.29420304887753...|       3.0|[0.07201786426625...|\n",
      "+-----+--------------------+----------+--------------------+\n",
      "only showing top 10 rows\n",
      "\n"
     ]
    }
   ],
   "source": [
    "predictions.select( 'label', 'rawPrediction', 'prediction', 'probability').show(10)"
   ]
  },
  {
   "cell_type": "code",
   "execution_count": 73,
   "metadata": {},
   "outputs": [],
   "source": [
    "trainingSummary = lrModel.summary"
   ]
  },
  {
   "cell_type": "code",
   "execution_count": 74,
   "metadata": {},
   "outputs": [
    {
     "name": "stdout",
     "output_type": "stream",
     "text": [
      "Coefficients: \n",
      "DenseMatrix([[-0.3077287 , -0.03751048, -0.73364708,  0.58104708,  0.28040234,\n",
      "               0.33289548,  0.0140544 ,  0.77792116, -0.20508892,  0.16830547,\n",
      "              -0.99830852],\n",
      "             [-0.2846381 ,  0.07722676, -0.83589011,  0.13914884,  0.32764538,\n",
      "              -0.2175576 , -0.07626181, -0.31480882, -0.440008  ,  0.01700929,\n",
      "              -0.27899657],\n",
      "             [ 0.6162916 ,  0.07307863, -0.77836532, -0.30497644,  0.26944725,\n",
      "              -0.40753872,  0.01206904, -0.6515686 , -0.43103269, -0.02880073,\n",
      "               0.25010286],\n",
      "             [ 0.03655687,  0.03852344, -0.98712685,  0.04748871,  0.82183192,\n",
      "              -0.43392489, -0.0702164 , -1.07500156, -0.63531078,  0.05134452,\n",
      "              -0.18910454],\n",
      "             [ 0.26144311, -0.05117319,  1.17203889, -0.43960718, -0.40787617,\n",
      "              -0.15558862,  0.01031375, -0.03788758,  0.39101144, -0.07389382,\n",
      "               0.45832111],\n",
      "             [ 0.5663251 ,  0.04604288, -0.07838694, -0.51604862, -0.08902858,\n",
      "              -0.29414706, -0.0024972 , -0.3292879 , -0.49126663, -0.0907895 ,\n",
      "               0.5177535 ],\n",
      "             [-0.33565407, -0.0520586 ,  1.37722775, -0.58776928, -0.78615774,\n",
      "               0.16950382,  0.07259302,  0.21829652,  0.57001825, -0.13567489,\n",
      "               0.68814153],\n",
      "             [-0.22642422,  0.03826366, -0.56477593,  0.23627969,  0.30682177,\n",
      "               0.00217614, -0.05507878,  0.87347611, -0.19110357,  0.02365455,\n",
      "              -0.52948475],\n",
      "             [ 0.10112214, -0.04567076,  1.25823287, -0.2176159 , -0.58670885,\n",
      "               0.08330111,  0.02577672,  0.12619936,  0.82908109, -0.06314504,\n",
      "               0.62391339],\n",
      "             [-0.2731697 , -0.06496029, -0.64758002,  0.72154007,  0.373745  ,\n",
      "               0.47481673, -0.02747369,  0.5484279 , -0.00524627,  0.14333209,\n",
      "              -0.95888348],\n",
      "             [-0.15412401, -0.02176205,  0.81827276,  0.34051305, -0.51012232,\n",
      "               0.4460636 ,  0.09672095, -0.13576659,  0.60894609, -0.01134194,\n",
      "               0.41654548]])\n",
      "Intercept: [0.486246130610138,0.9137637744914262,0.7248056310174097,0.6712411471270456,-0.020190149587497142,0.6390225238211337,-0.6938745790808145,0.17762303315282177,-0.8579934926982404,-0.749991983828252,-1.290652035025172]\n",
      "objectiveHistory:\n",
      "2.32219157511937\n",
      "2.0891189705868958\n",
      "1.9822191585011792\n",
      "1.9248873371321606\n",
      "1.8876134679415877\n",
      "1.875393948991113\n",
      "1.861511855474453\n",
      "1.8558732314427107\n",
      "1.848438941477911\n",
      "1.8466138226891124\n",
      "1.844145115369092\n",
      "False positive rate by label:\n",
      "label 0: 0.16762314892121105\n",
      "label 1: 0.0420548194493791\n",
      "label 2: 0.07708030208549851\n",
      "label 3: 0.0993968866544948\n",
      "label 4: 0.18607308901067504\n",
      "label 5: 0.09185030395136778\n",
      "label 6: 0.06281956404736276\n",
      "label 7: 0.01808546923224105\n",
      "label 8: 0.02162916306316597\n",
      "label 9: 0.0\n",
      "label 10: 0.01045728885689651\n",
      "True positive rate by label:\n",
      "label 0: 0.6378056052474658\n",
      "label 1: 0.10938118485288296\n",
      "label 2: 0.23457690013915578\n",
      "label 3: 0.3678943154523619\n",
      "label 4: 0.5234520329524316\n",
      "label 5: 0.31491150742523905\n",
      "label 6: 0.30584900798763204\n",
      "label 7: 0.07682643989176652\n",
      "label 8: 0.2152960320440606\n",
      "label 9: 0.0\n",
      "label 10: 0.11823017408123791\n",
      "Precision by label:\n",
      "label 0: 0.35929994289361417\n",
      "label 1: 0.2546459837198587\n",
      "label 2: 0.2845659163987138\n",
      "label 3: 0.324333862713958\n",
      "label 4: 0.268257805318171\n",
      "label 5: 0.30390681238138867\n",
      "label 6: 0.322817514277944\n",
      "label 7: 0.26776692489053555\n",
      "label 8: 0.39350263097689314\n",
      "label 9: 0.0\n",
      "label 10: 0.2700165654334622\n",
      "Recall by label:\n",
      "label 0: 0.6378056052474658\n",
      "label 1: 0.10938118485288296\n",
      "label 2: 0.23457690013915578\n",
      "label 3: 0.3678943154523619\n",
      "label 4: 0.5234520329524316\n",
      "label 5: 0.31491150742523905\n",
      "label 6: 0.30584900798763204\n",
      "label 7: 0.07682643989176652\n",
      "label 8: 0.2152960320440606\n",
      "label 9: 0.0\n",
      "label 10: 0.11823017408123791\n",
      "F-measure by label:\n",
      "label 0: 0.45965749156621327\n",
      "label 1: 0.15302967372744475\n",
      "label 2: 0.25716465075732814\n",
      "label 3: 0.34474350558004313\n",
      "label 4: 0.354726155369966\n",
      "label 5: 0.30931130944451846\n",
      "label 6: 0.31410426038634554\n",
      "label 7: 0.11939626041901327\n",
      "label 8: 0.27831715210355984\n",
      "label 9: 0.0\n",
      "label 10: 0.16445266520934926\n"
     ]
    }
   ],
   "source": [
    "# Print the coefficients and intercept for multinomial logistic regression\n",
    "print(\"Coefficients: \\n\" + str(lrModel.coefficientMatrix))\n",
    "print(\"Intercept: \" + str(lrModel.interceptVector))\n",
    "\n",
    "trainingSummary = lrModel.summary\n",
    "\n",
    "# Obtain the objective per iteration\n",
    "objectiveHistory = trainingSummary.objectiveHistory\n",
    "print(\"objectiveHistory:\")\n",
    "for objective in objectiveHistory:\n",
    "    print(objective)\n",
    "\n",
    "# for multiclass, we can inspect metrics on a per-label basis\n",
    "print(\"False positive rate by label:\")\n",
    "for i, rate in enumerate(trainingSummary.falsePositiveRateByLabel):\n",
    "    print(\"label %d: %s\" % (i, rate))\n",
    "\n",
    "print(\"True positive rate by label:\")\n",
    "for i, rate in enumerate(trainingSummary.truePositiveRateByLabel):\n",
    "    print(\"label %d: %s\" % (i, rate))\n",
    "\n",
    "print(\"Precision by label:\")\n",
    "for i, prec in enumerate(trainingSummary.precisionByLabel):\n",
    "    print(\"label %d: %s\" % (i, prec))\n",
    "\n",
    "print(\"Recall by label:\")\n",
    "for i, rec in enumerate(trainingSummary.recallByLabel):\n",
    "    print(\"label %d: %s\" % (i, rec))\n",
    "\n",
    "print(\"F-measure by label:\")\n",
    "for i, f in enumerate(trainingSummary.fMeasureByLabel()):\n",
    "    print(\"label %d: %s\" % (i, f))"
   ]
  },
  {
   "cell_type": "code",
   "execution_count": 69,
   "metadata": {},
   "outputs": [
    {
     "name": "stdout",
     "output_type": "stream",
     "text": [
      "Accuracy: 0.3101834475891387\n",
      "FPR: 0.08725348286143127\n",
      "TPR: 0.3101834475891387\n",
      "F-measure: 0.28166672791621117\n",
      "Precision: 0.2937483189547036\n",
      "Recall: 0.3101834475891387\n"
     ]
    }
   ],
   "source": [
    "accuracy = trainingSummary.accuracy\n",
    "falsePositiveRate = trainingSummary.weightedFalsePositiveRate\n",
    "truePositiveRate = trainingSummary.weightedTruePositiveRate\n",
    "fMeasure = trainingSummary.weightedFMeasure()\n",
    "precision = trainingSummary.weightedPrecision\n",
    "recall = trainingSummary.weightedRecall\n",
    "print(\"Accuracy: %s\\nFPR: %s\\nTPR: %s\\nF-measure: %s\\nPrecision: %s\\nRecall: %s\"\n",
    "      % (accuracy, falsePositiveRate, truePositiveRate, fMeasure, precision, recall))"
   ]
  },
  {
   "cell_type": "markdown",
   "metadata": {},
   "source": [
    "#### Naive Bayes"
   ]
  },
  {
   "cell_type": "code",
   "execution_count": 75,
   "metadata": {},
   "outputs": [],
   "source": [
    "from pyspark.ml.feature import Bucketizer\n",
    "from pyspark.ml.classification import NaiveBayes"
   ]
  },
  {
   "cell_type": "code",
   "execution_count": 76,
   "metadata": {},
   "outputs": [],
   "source": [
    "## Define Naive Bayes Pipeline Step 1\n",
    "labIndex = StringIndexer(inputCol=\"decade\", outputCol=\"decadeIndex\").setHandleInvalid(\"skip\").fit(modelDf)\n",
    "\n",
    "## Define Naive Bayes Pipeline Step 2\n",
    "splits_loud = [-float(\"inf\"), 0.3, 0.65, float(\"inf\")]\n",
    "bucketizer_loud = Bucketizer(splits=splits_loud, inputCol=\"loudness\", outputCol=\"bucketedloudness\").setHandleInvalid(\"skip\")\n",
    "\n",
    "## Define Naive Bayes Pipeline Step 3\n",
    "splits_acou = [-float(\"inf\"), 0.3, 0.65, float(\"inf\")]\n",
    "bucketizer_acou = Bucketizer(splits=splits_acou, inputCol=\"acousticness\", outputCol=\"bucketedacousticness\").setHandleInvalid(\"skip\")\n",
    "\n",
    "## Define Naive Bayes Pipeline Step 4\n",
    "featureVecs = VectorAssembler(inputCols=[\"bucketedacousticness\", \"danceability\", \"energy\", \"instrumentalness\", \"liveness\", \"bucketedloudness\", \n",
    "                                         \"speechiness\", \"tempo\", \"valence\"], outputCol=\"features\")\n",
    "\n",
    "## Define Naive Bayes Pipeline Step 5\n",
    "nb = NaiveBayes(featuresCol='features', labelCol='decadeIndex', smoothing=1.0, modelType=\"multinomial\")\n",
    "\n",
    "## Define Naive Bayes Pipeline Step 6\n",
    "reLabel = IndexToString(inputCol=\"prediction\", outputCol=\"predictedLabel\", labels=labIndex.labels)"
   ]
  },
  {
   "cell_type": "code",
   "execution_count": 77,
   "metadata": {},
   "outputs": [],
   "source": [
    "## Define Naive Bayes Pipeline Stages\n",
    "nbPipe = Pipeline(stages=[labIndex, bucketizer_loud, bucketizer_acou, featureVecs, nb, reLabel])"
   ]
  },
  {
   "cell_type": "code",
   "execution_count": 78,
   "metadata": {},
   "outputs": [],
   "source": [
    "nbModel = nbPipe.fit(trainSet)"
   ]
  },
  {
   "cell_type": "markdown",
   "metadata": {},
   "source": [
    "#### Naive Bayes Prediction & Testing"
   ]
  },
  {
   "cell_type": "code",
   "execution_count": 83,
   "metadata": {},
   "outputs": [],
   "source": [
    "preds = nbModel.transform(testSet)"
   ]
  },
  {
   "cell_type": "code",
   "execution_count": 84,
   "metadata": {},
   "outputs": [
    {
     "name": "stdout",
     "output_type": "stream",
     "text": [
      "Test Error = 0.767509\n"
     ]
    }
   ],
   "source": [
    "accNB = eval.evaluate(preds)\n",
    "print(\"Test Error = %g\" % (1.0 - accNB))"
   ]
  },
  {
   "cell_type": "markdown",
   "metadata": {},
   "source": [
    "### Test Accuracy of Models"
   ]
  },
  {
   "cell_type": "code",
   "execution_count": 91,
   "metadata": {},
   "outputs": [
    {
     "name": "stdout",
     "output_type": "stream",
     "text": [
      "+-------------------------------+-------------------+\n",
      "|Model                          |Test Accuracy      |\n",
      "+-------------------------------+-------------------+\n",
      "|Random Forest                  |0.37014646165077336|\n",
      "|Decision Tree                  |0.29406396860884243|\n",
      "|One vs Rest Logistic Regression|0.3067709996806132 |\n",
      "|Multinomial Logistic Regression|0.3105123876442944 |\n",
      "|Naive Bayes                    |0.23249076059679702|\n",
      "+-------------------------------+-------------------+\n",
      "\n"
     ]
    }
   ],
   "source": [
    "testAcc = spark.createDataFrame(\n",
    "    [\n",
    "        (\"Random Forest\", accRF),\n",
    "        (\"Decision Tree\", accDT),\n",
    "        (\"One vs Rest Logistic Regression\", acc1vr),\n",
    "        (\"Multinomial Logistic Regression\", accMLR),\n",
    "        (\"Naive Bayes\", accNB)\n",
    "    ],\n",
    "    ['Model', 'Test Accuracy']\n",
    ")\n",
    "\n",
    "testAcc.show(truncate=False)"
   ]
  }
 ],
 "metadata": {
  "kernelspec": {
   "display_name": "Python 3 (ipykernel)",
   "language": "python",
   "name": "python3"
  },
  "language_info": {
   "codemirror_mode": {
    "name": "ipython",
    "version": 3
   },
   "file_extension": ".py",
   "mimetype": "text/x-python",
   "name": "python",
   "nbconvert_exporter": "python",
   "pygments_lexer": "ipython3",
   "version": "3.9.12"
  }
 },
 "nbformat": 4,
 "nbformat_minor": 4
}
